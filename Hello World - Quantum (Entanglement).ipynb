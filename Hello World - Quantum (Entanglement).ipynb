{
 "cells": [
  {
   "cell_type": "code",
   "execution_count": 1,
   "metadata": {},
   "outputs": [],
   "source": [
    "# **********************************************************************************************************\n",
    "# Author: Andi Sama \n",
    "# Purpose: Demonstrate \"Hello World\" in Quantum Computer\n",
    "#   - Through Quantum Entanglement in 2 Qubits configuration\n",
    "#   - Using Simulated Quantum Computer (QASM Quantum Simulator) & real Quantum Computer (IBM Q on IBM Cloud)\n",
    "# Organization: Sinergi Wahana Gemilang\n",
    "# Creation Date: May 7, 2020\n",
    "# Changes history:\n",
    "#   - May 8: finalized\n",
    "# References:\n",
    "#   - IBM Think2020 virtual event, May 5-6 2020\n",
    "#   - IBM Quantum Experience on IBM Cloud\n",
    "#   - Qiskit.org Youtube Channel\n",
    "#   - Qiskit.org Textbook\n",
    "#\n",
    "# See article in medium.com/@andisama (June 2020)\n",
    "# **********************************************************************************************************"
   ]
  },
  {
   "cell_type": "code",
   "execution_count": 2,
   "metadata": {},
   "outputs": [
    {
     "name": "stdout",
     "output_type": "stream",
     "text": [
      "OS name: nt , system: Windows , release: 10\n",
      "Anaconda version:\n",
      "# packages in environment at C:\\Users\\andis\\anaconda3:\n",
      "#\n",
      "# Name                    Version                   Build  Channel\n",
      "Python version:_anaconda_depends         2019.03                  py37_0  \n",
      "anaconda                  custom                   py37_1  \n",
      "anaconda-client           1.7.2                    py37_0  \n",
      " 3.7.7 (default, Mar 23 2020, 23:19:08) [MSC v.1916 64 bit (AMD64)]\n",
      "Python version info:  sys.version_info(major=3, minor=7, micro=7, releaselevel='final', serial=0)\n",
      "anaconda-navigator        1.9.12                   py37_0  \n",
      "anaconda-project          0.8.4                      py_0  \n",
      "IBM Qiskit: {'qiskit-terra': '0.14.1', 'qiskit-aer': '0.5.1', 'qiskit-ignis': '0.3.0', 'qiskit-ibmq-provider': '0.7.0', 'qiskit-aqua': '0.7.0', 'qiskit': '0.19.1'}\n"
     ]
    }
   ],
   "source": [
    "# import necessary library\n",
    "# install it with \"pip install qiskit\"\n",
    "import os, platform, sys, time\n",
    "from datetime import date\n",
    "print('OS name:', os.name, ', system:', platform.system(), ', release:', platform.release())\n",
    "print(\"Anaconda version:\")\n",
    "!conda list anaconda\n",
    "print(\"Python version:\", sys.version)\n",
    "print(\"Python version info: \", sys.version_info)\n",
    "# the following can be selected or just 'from qiskit import *''\n",
    "from qiskit import qiskit, QuantumRegister, ClassicalRegister, QuantumCircuit, IBMQ, execute, Aer\n",
    "%matplotlib inline\n",
    "print(\"IBM Qiskit:\", qiskit.__qiskit_version__)"
   ]
  },
  {
   "cell_type": "markdown",
   "metadata": {},
   "source": [
    "# A. Build the Quantum Circuit"
   ]
  },
  {
   "cell_type": "code",
   "execution_count": 3,
   "metadata": {},
   "outputs": [],
   "source": [
    "# just do this once - save your token to your computer to use later (IBMQ.load_account()\n",
    "# get the token from your account in https://quantum-computing.ibm.com/\n",
    "#  MyAccount -> Qiskit in local environment -> Copy Token\n",
    "# IBMQ.save_account('your token here....') "
   ]
  },
  {
   "cell_type": "code",
   "execution_count": 4,
   "metadata": {},
   "outputs": [],
   "source": [
    "# define registers and create quantum circuit\n",
    "# we can also define quantum circuit directly as follows:\n",
    "#  circuit = QuantumCircuit(2,2) # quantum circuit with 2 quantum registers and 2 classical registers\n",
    "qr = QuantumRegister(2) # quantum register, 2 qubits\n",
    "cr = ClassicalRegister(2) # classical register, 2 classical bits\n",
    "circuit = QuantumCircuit(qr, cr)"
   ]
  },
  {
   "cell_type": "code",
   "execution_count": 5,
   "metadata": {},
   "outputs": [
    {
     "name": "stdout",
     "output_type": "stream",
     "text": [
      "Quantum Register: QuantumRegister(2, 'q0'), Classical Register: ClassicalRegister(2, 'c0')\n",
      "Quantum Registers: Qubit(QuantumRegister(2, 'q0'), 0) Qubit(QuantumRegister(2, 'q0'), 1)\n",
      "Classical Registers: Clbit(ClassicalRegister(2, 'c0'), 0) Clbit(ClassicalRegister(2, 'c0'), 1)\n"
     ]
    }
   ],
   "source": [
    "print(\"Quantum Register: %s, Classical Register: %s\" %(qr, cr))\n",
    "print(\"Quantum Registers:\", qr[0], qr[1])\n",
    "print(\"Classical Registers:\", cr[0], cr[1])"
   ]
  },
  {
   "cell_type": "code",
   "execution_count": 6,
   "metadata": {},
   "outputs": [
    {
     "data": {
      "text/html": [
       "<pre style=\"word-wrap: normal;white-space: pre;background: #fff0;line-height: 1.1;font-family: &quot;Courier New&quot;,Courier,monospace\">      \n",
       "q0_0: \n",
       "      \n",
       "q0_1: \n",
       "      \n",
       "c0_0: \n",
       "      \n",
       "c0_1: \n",
       "      </pre>"
      ],
      "text/plain": [
       "      \n",
       "q0_0: \n",
       "      \n",
       "q0_1: \n",
       "      \n",
       "c0_0: \n",
       "      \n",
       "c0_1: \n",
       "      "
      ]
     },
     "execution_count": 6,
     "metadata": {},
     "output_type": "execute_result"
    }
   ],
   "source": [
    "# draw the created quantum circuit\n",
    "circuit.draw()"
   ]
  },
  {
   "cell_type": "code",
   "execution_count": 7,
   "metadata": {},
   "outputs": [
    {
     "data": {
      "image/png": "[encoded data removed]",
      "text/plain": [
       "<Figure size 189.028x204.68 with 1 Axes>"
      ]
     },
     "execution_count": 7,
     "metadata": {},
     "output_type": "execute_result"
    }
   ],
   "source": [
    "# draw the created quantum circuit, nicer output\n",
    "circuit.draw(output='mpl')"
   ]
  },
  {
   "cell_type": "code",
   "execution_count": 8,
   "metadata": {},
   "outputs": [
    {
     "data": {
      "image/png": "[encoded data removed]",
      "text/plain": [
       "<Figure size 249.228x204.68 with 1 Axes>"
      ]
     },
     "execution_count": 8,
     "metadata": {},
     "output_type": "execute_result"
    }
   ],
   "source": [
    "# Demonstrate Quantum Entanglement, 2 Qubits\n",
    "# - apply hadamard gate on qubit[0]\n",
    "# - apply controlled-x gate with qubit[0] as control qubit to qubit[1] as controlled qubit\n",
    "# - measure both qubit[0] and qubit[1] and store the result to classical bits 0 and 1\n",
    "\n",
    "# first, apply hadamard on qubit[0]\n",
    "circuit.h(qr[0])\n",
    "circuit.draw(output='mpl')"
   ]
  },
  {
   "cell_type": "code",
   "execution_count": 9,
   "metadata": {},
   "outputs": [
    {
     "data": {
      "image/png": "[encoded data removed]",
      "text/plain": [
       "<Figure size 309.428x204.68 with 1 Axes>"
      ]
     },
     "execution_count": 9,
     "metadata": {},
     "output_type": "execute_result"
    }
   ],
   "source": [
    "# then apply controlled-x gate with qubit[0] as control qubit to qubit[1] as controlled qubit\n",
    "circuit.cx(qr[0], qr[1])\n",
    "circuit.draw(output='mpl')"
   ]
  },
  {
   "cell_type": "code",
   "execution_count": 10,
   "metadata": {},
   "outputs": [
    {
     "data": {
      "image/png": "[encoded data removed]",
      "text/plain": [
       "<Figure size 429.828x204.68 with 1 Axes>"
      ]
     },
     "execution_count": 10,
     "metadata": {},
     "output_type": "execute_result"
    }
   ],
   "source": [
    "# finally, measure both qubit[0] and qubit[1] and store the result to classical register 0 and 1\n",
    "circuit.measure(qr, cr)\n",
    "circuit.draw(output='mpl')"
   ]
  },
  {
   "cell_type": "markdown",
   "metadata": {},
   "source": [
    "# B. Run the Quantum Circuit"
   ]
  },
  {
   "cell_type": "markdown",
   "metadata": {},
   "source": [
    "## B.1. Run the Quantum Circuit, \"Simulated\" in our computer"
   ]
  },
  {
   "cell_type": "code",
   "execution_count": 11,
   "metadata": {},
   "outputs": [
    {
     "name": "stdout",
     "output_type": "stream",
     "text": [
      "Result(backend_name='qasm_simulator', backend_version='0.5.1', date=datetime.datetime(2020, 5, 8, 21, 10, 31, 256297), header=Obj(backend_name='qasm_simulator', backend_version='0.5.1'), job_id='58b824a6-0451-45b5-92e3-73191e196965', metadata={'max_memory_mb': 8119, 'omp_enabled': True, 'parallel_experiments': 1, 'time_taken': 0.0051069}, qobj_id='bf729de3-b35b-43e8-9ea4-4029539cb057', results=[ExperimentResult(data=ExperimentResultData(counts=Obj(0x0=520, 0x3=504)), header=Obj(clbit_labels=[['c0', 0], ['c0', 1]], creg_sizes=[['c0', 2]], memory_slots=2, n_qubits=2, name='circuit8', qreg_sizes=[['q0', 2]], qubit_labels=[['q0', 0], ['q0', 1]]), meas_level=<MeasLevel.CLASSIFIED: 2>, metadata={'measure_sampling': True, 'method': 'stabilizer', 'parallel_shots': 1, 'parallel_state_update': 8}, seed_simulator=3427093410, shots=1024, status='DONE', success=True, time_taken=0.0037416)], status='COMPLETED', success=True, time_taken=0.005984306335449219)\n"
     ]
    }
   ],
   "source": [
    "# Run the quantum circuit, by using backend simulator in our computer\n",
    "from qiskit.tools.visualization import plot_histogram\n",
    "simulator = Aer.get_backend('qasm_simulator')\n",
    "result = execute(circuit, backend = simulator).result()\n",
    "print(result)"
   ]
  },
  {
   "cell_type": "code",
   "execution_count": 12,
   "metadata": {},
   "outputs": [
    {
     "data": {
      "image/png": "[encoded data removed]",
      "text/plain": [
       "<Figure size 504x360 with 1 Axes>"
      ]
     },
     "execution_count": 12,
     "metadata": {},
     "output_type": "execute_result"
    }
   ],
   "source": [
    "plot_histogram(result.get_counts(circuit))"
   ]
  },
  {
   "cell_type": "code",
   "execution_count": 13,
   "metadata": {},
   "outputs": [],
   "source": [
    "# Note:\n",
    "#  - the result above shows about 50%:50% probabilities for 00 and 11\n",
    "#  - as the expected result is 50%:50%, this small error occurred because we run a limited shots (experiment)"
   ]
  },
  {
   "cell_type": "markdown",
   "metadata": {},
   "source": [
    "## B.2. Run our Quantum Circuit on The \"Real IBMQ Quantum Computer\""
   ]
  },
  {
   "cell_type": "code",
   "execution_count": 14,
   "metadata": {},
   "outputs": [],
   "source": [
    "# Run our quantum circuit on The \"Real IBMQ Quantum Computer\" by submitting a job containing our defined quantum circuit\n",
    "from qiskit.tools.monitor import job_monitor"
   ]
  },
  {
   "cell_type": "code",
   "execution_count": 15,
   "metadata": {},
   "outputs": [
    {
     "data": {
      "text/plain": [
       "<AccountProvider for IBMQ(hub='ibm-q', group='open', project='main')>"
      ]
     },
     "execution_count": 15,
     "metadata": {},
     "output_type": "execute_result"
    }
   ],
   "source": [
    "# load saved credential to access IBM real quantum computer\n",
    "IBMQ.load_account()"
   ]
  },
  {
   "cell_type": "code",
   "execution_count": 16,
   "metadata": {},
   "outputs": [],
   "source": [
    "# define the backend IBM real quantum computer to use\n",
    "provider = IBMQ.get_provider('ibm-q')\n",
    "qcomp = provider.get_backend('ibmq_16_melbourne')"
   ]
  },
  {
   "cell_type": "code",
   "execution_count": 17,
   "metadata": {},
   "outputs": [
    {
     "name": "stdout",
     "output_type": "stream",
     "text": [
      "Job Status: job has successfully run\n"
     ]
    }
   ],
   "source": [
    "# submit & monitor our quantum circuit to IBM backend real quantum computer\n",
    "job = execute(circuit, backend = qcomp, shots = 1024)\n",
    "job_monitor(job)"
   ]
  },
  {
   "cell_type": "code",
   "execution_count": 18,
   "metadata": {},
   "outputs": [
    {
     "data": {
      "image/png": "[encoded data removed]",
      "text/plain": [
       "<Figure size 504x360 with 1 Axes>"
      ]
     },
     "execution_count": 18,
     "metadata": {},
     "output_type": "execute_result"
    }
   ],
   "source": [
    "# inspect the result\n",
    "result = job.result()\n",
    "plot_histogram(result.get_counts(circuit))"
   ]
  },
  {
   "cell_type": "code",
   "execution_count": 19,
   "metadata": {},
   "outputs": [],
   "source": [
    "# note:\n",
    "#  - we see probabilities applied (majority) in 00 and 11 states \n",
    "#  - we also see that there are small probabilities that 01 and 10 states are occurring\n",
    "#    due to the nature of error in executing our quantum circuit in the real quantum computer"
   ]
  }
 ],
 "metadata": {
  "kernelspec": {
   "display_name": "Python 3",
   "language": "python",
   "name": "python3"
  },
  "language_info": {
   "codemirror_mode": {
    "name": "ipython",
    "version": 3
   },
   "file_extension": ".py",
   "mimetype": "text/x-python",
   "name": "python",
   "nbconvert_exporter": "python",
   "pygments_lexer": "ipython3",
   "version": "3.7.7"
  }
 },
 "nbformat": 4,
 "nbformat_minor": 4
}
